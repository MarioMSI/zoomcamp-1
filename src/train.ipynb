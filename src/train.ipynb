{
 "cells": [
  {
   "cell_type": "markdown",
   "metadata": {},
   "source": [
    "# Import libraries"
   ]
  },
  {
   "cell_type": "code",
   "execution_count": 1,
   "metadata": {},
   "outputs": [],
   "source": [
    "import pandas as pd \n",
    "import numpy as np "
   ]
  },
  {
   "cell_type": "code",
   "execution_count": 2,
   "metadata": {},
   "outputs": [],
   "source": [
    "import seaborn as sns\n",
    "import matplotlib.pyplot as plt"
   ]
  },
  {
   "cell_type": "code",
   "execution_count": 3,
   "metadata": {},
   "outputs": [],
   "source": [
    "from sklearn.feature_extraction import DictVectorizer\n",
    "from sklearn.preprocessing import OneHotEncoder\n",
    "from sklearn.linear_model import LinearRegression\n",
    "from sklearn.metrics import mean_squared_error"
   ]
  },
  {
   "cell_type": "markdown",
   "metadata": {},
   "source": [
    "# With ohe"
   ]
  },
  {
   "cell_type": "code",
   "execution_count": 4,
   "metadata": {},
   "outputs": [],
   "source": [
    "def read_transform_data(data, col_cat, col_num, target):\n",
    "    df = pd.read_parquet(data)\n",
    "    print(f'The size of the dataset is: {len(df)}')\n",
    "    #Convert to datetime\n",
    "    df['lpep_dropoff_datetime'] = pd.to_datetime(df['lpep_dropoff_datetime'])\n",
    "    df['lpep_pickup_datetime'] = pd.to_datetime(df['lpep_pickup_datetime'])\n",
    "\n",
    "    #Create duration column\n",
    "    df['duration'] = df['lpep_dropoff_datetime'] - df['lpep_pickup_datetime']\n",
    "    # Obtain only mins\n",
    "    df['duration'] = df['duration'].dt.total_seconds() / 60\n",
    "    #Filtering data\n",
    "    df = df[(df['duration'] >= 1) & (df['duration'] <= 60)]\n",
    "    #Change type for cat vars\n",
    "    df[col_cat] = df[col_cat].astype(str)\n",
    "    #Select final variables\n",
    "    df = df[col_cat + col_num + target]\n",
    "    #Drop nulls\n",
    "    df = df.dropna()\n",
    "    df.reset_index()\n",
    "    return df"
   ]
  },
  {
   "cell_type": "code",
   "execution_count": 5,
   "metadata": {},
   "outputs": [
    {
     "name": "stdout",
     "output_type": "stream",
     "text": [
      "The size of the dataset is: 76518\n",
      "The size of the dataset is: 64572\n"
     ]
    }
   ],
   "source": [
    "target = ['duration']\n",
    "col_cat = ['PULocationID', 'DOLocationID']\n",
    "col_num = ['trip_distance']\n",
    "\n",
    "df_train = read_transform_data('../data/green_tripdata_2021-01.parquet', col_cat, col_num, target)\n",
    "df_test = read_transform_data('../data/green_tripdata_2021-02.parquet', col_cat, col_num, target)\n"
   ]
  },
  {
   "cell_type": "code",
   "execution_count": 6,
   "metadata": {},
   "outputs": [
    {
     "name": "stdout",
     "output_type": "stream",
     "text": [
      "PULocationID     0\n",
      "DOLocationID     0\n",
      "trip_distance    0\n",
      "duration         0\n",
      "dtype: int64\n"
     ]
    }
   ],
   "source": [
    "print(df_train.isna().sum())"
   ]
  },
  {
   "cell_type": "code",
   "execution_count": 7,
   "metadata": {},
   "outputs": [],
   "source": [
    "# One hot encoding \n",
    "enc = OneHotEncoder(sparse=False, handle_unknown='ignore')"
   ]
  },
  {
   "cell_type": "code",
   "execution_count": 8,
   "metadata": {},
   "outputs": [
    {
     "name": "stderr",
     "output_type": "stream",
     "text": [
      "c:\\Users\\mario.segura\\Anaconda3\\envs\\Mario\\Lib\\site-packages\\sklearn\\preprocessing\\_encoders.py:972: FutureWarning: `sparse` was renamed to `sparse_output` in version 1.2 and will be removed in 1.4. `sparse_output` is ignored unless you leave `sparse` to its default value.\n",
      "  warnings.warn(\n"
     ]
    },
    {
     "name": "stdout",
     "output_type": "stream",
     "text": [
      "trip_distance       0\n",
      "duration            0\n",
      "PULocationID_10     0\n",
      "PULocationID_100    0\n",
      "PULocationID_101    0\n",
      "                   ..\n",
      "DOLocationID_94     0\n",
      "DOLocationID_95     0\n",
      "DOLocationID_96     0\n",
      "DOLocationID_97     0\n",
      "DOLocationID_98     0\n",
      "Length: 508, dtype: int64\n"
     ]
    }
   ],
   "source": [
    "# Fit and transform the training data, then create a DataFrame with the correct index\n",
    "enc_features_train = enc.fit_transform(df_train[col_cat])\n",
    "df_train_ohe = pd.DataFrame(enc_features_train, columns=enc.get_feature_names_out(col_cat), index=df_train.index)\n",
    "\n",
    "# Concatenate the one-hot encoded DataFrame with the remaining columns in df_train\n",
    "df_train = pd.concat([df_train.drop(col_cat, axis=1), df_train_ohe], axis=1)\n",
    "\n",
    "# Transform the test data using the same encoder, then create a DataFrame with the correct index\n",
    "enc_features_test = enc.transform(df_test[col_cat])\n",
    "df_test_ohe = pd.DataFrame(enc_features_test, columns=enc.get_feature_names_out(col_cat), index=df_test.index)\n",
    "\n",
    "# Concatenate the one-hot encoded DataFrame with the remaining columns in df_test\n",
    "df_test = pd.concat([df_test.drop(col_cat, axis=1), df_test_ohe], axis=1)\n",
    "\n",
    "# Verifica si hay valores nulos después de la transformación\n",
    "print(df_train.isna().sum())"
   ]
  },
  {
   "cell_type": "code",
   "execution_count": 9,
   "metadata": {},
   "outputs": [],
   "source": [
    "y_train = df_train[target]\n",
    "X_train = df_train.drop(columns = target)\n",
    "y_test = df_test[target]\n",
    "X_test = df_test.drop(columns = target)\n"
   ]
  },
  {
   "cell_type": "code",
   "execution_count": 10,
   "metadata": {},
   "outputs": [],
   "source": [
    "lr = LinearRegression()"
   ]
  },
  {
   "cell_type": "code",
   "execution_count": 11,
   "metadata": {},
   "outputs": [
    {
     "name": "stdout",
     "output_type": "stream",
     "text": [
      "RMSE in train: 9.775258694628427\n",
      "RMSE in test: 1470183.2562417628\n"
     ]
    }
   ],
   "source": [
    "lr.fit(X_train, y_train)\n",
    "\n",
    "y_pred_train = lr.predict(X_train)\n",
    "y_pred_test = lr.predict(X_test)\n",
    "rmse_train = mean_squared_error(y_train, y_pred_train, squared=False)\n",
    "rmse_test = mean_squared_error(y_test, y_pred_test, squared=False)\n",
    "\n",
    "print(f'RMSE in train: {rmse_train}')\n",
    "print(f'RMSE in test: {rmse_test}')"
   ]
  },
  {
   "cell_type": "markdown",
   "metadata": {},
   "source": [
    "# With dict vectorizer"
   ]
  },
  {
   "cell_type": "code",
   "execution_count": 12,
   "metadata": {},
   "outputs": [
    {
     "name": "stdout",
     "output_type": "stream",
     "text": [
      "The size of the dataset is: 76518\n",
      "The size of the dataset is: 64572\n"
     ]
    }
   ],
   "source": [
    "df_train = read_transform_data('../data/green_tripdata_2021-01.parquet', col_cat, col_num, target)\n",
    "df_test = read_transform_data('../data/green_tripdata_2021-02.parquet', col_cat, col_num, target)"
   ]
  },
  {
   "cell_type": "code",
   "execution_count": 13,
   "metadata": {},
   "outputs": [],
   "source": [
    "dv = DictVectorizer()\n",
    "\n",
    "train_dicts = df_train[col_cat + col_num].to_dict(orient='records')\n",
    "X_train = dv.fit_transform(train_dicts)\n",
    "\n",
    "test_dicts = df_test[col_cat + col_num].to_dict(orient='records')\n",
    "X_test = dv.transform(test_dicts)"
   ]
  },
  {
   "cell_type": "code",
   "execution_count": 14,
   "metadata": {},
   "outputs": [],
   "source": [
    "y_train = df_train[target].values\n",
    "y_test = df_test[target].values"
   ]
  },
  {
   "cell_type": "code",
   "execution_count": 15,
   "metadata": {},
   "outputs": [
    {
     "name": "stdout",
     "output_type": "stream",
     "text": [
      "RMSE in train: 9.838799799829626\n",
      "RMSE in test: 10.499110710360293\n"
     ]
    }
   ],
   "source": [
    "lr2 = LinearRegression()\n",
    "lr2.fit(X_train, y_train)\n",
    "\n",
    "y_pred_train = lr2.predict(X_train)\n",
    "y_pred_test = lr2.predict(X_test)\n",
    "rmse_train_2 = mean_squared_error(y_train, y_pred_train, squared=False)\n",
    "rmse_test_2 = mean_squared_error(y_test, y_pred_test, squared=False)\n",
    "\n",
    "print(f'RMSE in train: {rmse_train_2}')\n",
    "print(f'RMSE in test: {rmse_test_2}')"
   ]
  },
  {
   "cell_type": "code",
   "execution_count": 16,
   "metadata": {},
   "outputs": [
    {
     "name": "stdout",
     "output_type": "stream",
     "text": [
      "OHE\n",
      "RMSE in train ohe: 9.775258694628427\n",
      "RMSE in test ohe: 1470183.2562417628\n",
      "VECT\n",
      "RMSE in train vect: 9.838799799829626\n",
      "RMSE in test vect: 10.499110710360293\n"
     ]
    }
   ],
   "source": [
    "print('OHE')\n",
    "print(f'RMSE in train ohe: {rmse_train}')\n",
    "print(f'RMSE in test ohe: {rmse_test}')\n",
    "print('VECT')\n",
    "print(f'RMSE in train vect: {rmse_train_2}')\n",
    "print(f'RMSE in test vect: {rmse_test_2}')"
   ]
  }
 ],
 "metadata": {
  "kernelspec": {
   "display_name": "Mario",
   "language": "python",
   "name": "python3"
  },
  "language_info": {
   "codemirror_mode": {
    "name": "ipython",
    "version": 3
   },
   "file_extension": ".py",
   "mimetype": "text/x-python",
   "name": "python",
   "nbconvert_exporter": "python",
   "pygments_lexer": "ipython3",
   "version": "3.11.0"
  }
 },
 "nbformat": 4,
 "nbformat_minor": 2
}
